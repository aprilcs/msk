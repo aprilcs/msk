{
  "cells": [
    {
      "cell_type": "markdown",
      "metadata": {
      },
      "source": "# JupyterCon 2018 Candy Trade\nThis notebook contains all data and code to replicate our JupyterCon 2018 candy trade analyses. Every participant of the JupyterCon 2018 tutorial received a handful of candy. They then conducted an experiment exploring the impact of candy trading on their candy selection happiness:\n\n1. **Pre-trade**: Participants were asked to rate the happiness of their candy selection on a scale from 1-10 (trade 0). \n\n2. **Trade 1**: Participants were then allowed to trade with one participant and rate the happiness with their selection following the trade on a scale from 1-10 (trade 1). \n\n3. **Trade 2**: Participants were then allowed to trade with the whole group and rate their happiness with their final selection on a scale from 1-10 (trade 2)."
    },
    {
      "cell_type": "markdown",
      "metadata": {
      },
      "source": "We will start the analyses of our candy trade data by importing the necessary packages."
    },
    {
      "cell_type": "code",
      "execution_count": null,
      "metadata": {
      },
      "outputs": [
      ],
      "source": "import pandas as pd \nimport numpy as np\nimport matplotlib.pyplot as plt"
    },
    {
      "cell_type": "markdown",
      "metadata": {
      },
      "source": "Our data was collected using a [google form](https://goo.gl/forms/Mxi2fKrOYc9UCB9j1). For each trade, the participants contributed their name (*\"participant_name\"*), which trade they had just finished (*\"trade_number\"*), and their current happiness with their candy selection (*\"happiness_rating\"*). "
    },
    {
      "cell_type": "code",
      "execution_count": null,
      "metadata": {
      },
      "outputs": [
      ],
      "source": "data = pd.read_csv('../data/data.csv')\ndata"
    },
    {
      "cell_type": "markdown",
      "metadata": {
      },
      "source": "## Happiness rating vs. number of trades"
    },
    {
      "cell_type": "markdown",
      "metadata": {
      },
      "source": "To explore the trends in individual candy selection happiness over the trades, we created a simple line plot."
    },
    {
      "cell_type": "code",
      "execution_count": null,
      "metadata": {
      },
      "outputs": [
      ],
      "source": "fig, ax = plt.subplots()\n\nfor key, grp in data.groupby(['participant_name']):\n    ax = grp.plot(ax=ax, kind='line', x='trade_number', y='happiness_rating', label=key)\nplt.legend(loc='best')\nplt.xlabel('Number of trades')\nplt.ylabel('Happiness Rating')\nplt.title('Happiness of individuals with candy selection vs. number of candy trades')\nplt.show()"
    },
    {
      "cell_type": "markdown",
      "metadata": {
      },
      "source": "## Changes in candy selection happiness of JupyterCon tutorial group"
    },
    {
      "cell_type": "markdown",
      "metadata": {
      },
      "source": "Finally, we explored whether happiness changed significantly as a group over the trades using a boxplot."
    },
    {
      "cell_type": "code",
      "execution_count": null,
      "metadata": {
      },
      "outputs": [
      ],
      "source": "data.boxplot('happiness_rating', by='trade_number', figsize=(12, 8))"
    }
  ],
  "metadata": {
    "kernelspec": {
      "display_name": "Python 3",
      "language": "python",
      "name": "python3"
    },
    "language_info": {
      "codemirror_mode": {
        "name": "ipython",
        "version": 3
      },
      "file_extension": ".py",
      "mimetype": "text/x-python",
      "name": "python",
      "nbconvert_exporter": "python",
      "pygments_lexer": "ipython3",
      "version": "3.6.3"
    }
  },
  "nbformat": 4,
  "nbformat_minor": 2
}